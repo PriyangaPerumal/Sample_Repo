{
 "cells": [
  {
   "cell_type": "code",
   "execution_count": 1,
   "id": "60a0154a",
   "metadata": {},
   "outputs": [
    {
     "name": "stdout",
     "output_type": "stream",
     "text": [
      "python version\n",
      "3.9.13 (main, Aug 25 2022, 23:51:50) [MSC v.1916 64 bit (AMD64)]\n",
      "version info.\n",
      "sys.version_info(major=3, minor=9, micro=13, releaselevel='final', serial=0)\n"
     ]
    }
   ],
   "source": [
    "import sys\n",
    "print(\"python version\")\n",
    "print(sys.version)\n",
    "print(\"version info.\")\n",
    "print(sys.version_info)"
   ]
  },
  {
   "cell_type": "code",
   "execution_count": 2,
   "id": "367549c1",
   "metadata": {},
   "outputs": [
    {
     "name": "stdout",
     "output_type": "stream",
     "text": [
      "customer id= 513\n"
     ]
    }
   ],
   "source": [
    "id=513\n",
    "print(\"customer id=\",id)"
   ]
  },
  {
   "cell_type": "code",
   "execution_count": 5,
   "id": "8e365745",
   "metadata": {},
   "outputs": [
    {
     "data": {
      "text/plain": [
       "516"
      ]
     },
     "execution_count": 5,
     "metadata": {},
     "output_type": "execute_result"
    }
   ],
   "source": [
    "id=id+1\n",
    "id"
   ]
  },
  {
   "cell_type": "code",
   "execution_count": 7,
   "id": "67dd5735",
   "metadata": {},
   "outputs": [
    {
     "data": {
      "text/plain": [
       "517"
      ]
     },
     "execution_count": 7,
     "metadata": {},
     "output_type": "execute_result"
    }
   ],
   "source": [
    "new_id=int(id+1)\n",
    "new_id"
   ]
  },
  {
   "cell_type": "code",
   "execution_count": 8,
   "id": "842d5235",
   "metadata": {},
   "outputs": [
    {
     "name": "stdout",
     "output_type": "stream",
     "text": [
      "#Twinkle, twinkle, little star,\n",
      "# How I wonder what you are!\n",
      "# Up above the world so high,\n",
      "# Like a diamond in the sky.\n"
     ]
    }
   ],
   "source": [
    "print(\"\"\"#Twinkle, twinkle, little star,\n",
    "# How I wonder what you are!\n",
    "# Up above the world so high,\n",
    "# Like a diamond in the sky.\"\"\")"
   ]
  },
  {
   "cell_type": "code",
   "execution_count": 2,
   "id": "f7b7078c",
   "metadata": {},
   "outputs": [
    {
     "data": {
      "text/plain": [
       "'Python for Data Science'"
      ]
     },
     "execution_count": 2,
     "metadata": {},
     "output_type": "execute_result"
    }
   ],
   "source": [
    "course=\"Python for Data Science\"\n",
    "course"
   ]
  },
  {
   "cell_type": "code",
   "execution_count": 12,
   "id": "8cdb9937",
   "metadata": {},
   "outputs": [
    {
     "data": {
      "text/plain": [
       "'t'"
      ]
     },
     "execution_count": 12,
     "metadata": {},
     "output_type": "execute_result"
    }
   ],
   "source": [
    "course[13]"
   ]
  },
  {
   "cell_type": "code",
   "execution_count": 13,
   "id": "e38712b8",
   "metadata": {},
   "outputs": [
    {
     "data": {
      "text/plain": [
       "23"
      ]
     },
     "execution_count": 13,
     "metadata": {},
     "output_type": "execute_result"
    }
   ],
   "source": [
    "len(course)"
   ]
  },
  {
   "cell_type": "code",
   "execution_count": 14,
   "id": "e0b7b9d6",
   "metadata": {},
   "outputs": [
    {
     "data": {
      "text/plain": [
       "'e'"
      ]
     },
     "execution_count": 14,
     "metadata": {},
     "output_type": "execute_result"
    }
   ],
   "source": [
    "course[-1]"
   ]
  },
  {
   "cell_type": "code",
   "execution_count": 15,
   "id": "b5b77ca7",
   "metadata": {},
   "outputs": [
    {
     "data": {
      "text/plain": [
       "'Data'"
      ]
     },
     "execution_count": 15,
     "metadata": {},
     "output_type": "execute_result"
    }
   ],
   "source": [
    "course[11:15]"
   ]
  },
  {
   "cell_type": "code",
   "execution_count": 17,
   "id": "5189a803",
   "metadata": {},
   "outputs": [
    {
     "data": {
      "text/plain": [
       "'Python for Data Scie'"
      ]
     },
     "execution_count": 17,
     "metadata": {},
     "output_type": "execute_result"
    }
   ],
   "source": [
    "course[0:20]"
   ]
  },
  {
   "cell_type": "code",
   "execution_count": 5,
   "id": "38e910ad",
   "metadata": {},
   "outputs": [
    {
     "name": "stdout",
     "output_type": "stream",
     "text": [
      "P\n",
      "h\n",
      " \n",
      "r\n",
      "a\n",
      " \n",
      "i\n",
      "c\n"
     ]
    }
   ],
   "source": [
    "for x in course[::3]:\n",
    "    print(x)"
   ]
  },
  {
   "cell_type": "code",
   "execution_count": 23,
   "id": "8ae3586e",
   "metadata": {},
   "outputs": [
    {
     "data": {
      "text/plain": [
       "'Python for Data ScienceAI&developement,AI&developement,AI&developement'"
      ]
     },
     "execution_count": 23,
     "metadata": {},
     "output_type": "execute_result"
    }
   ],
   "source": [
    "course1=course+\",AI&developement\"\n",
    "course1"
   ]
  },
  {
   "cell_type": "code",
   "execution_count": 24,
   "id": "85cf716c",
   "metadata": {},
   "outputs": [
    {
     "data": {
      "text/plain": [
       "'Python for Data ScienceAI&developement,AI&developement,AI&developement'"
      ]
     },
     "execution_count": 24,
     "metadata": {},
     "output_type": "execute_result"
    }
   ],
   "source": [
    "course_1=course+\",AI&developement\"\n",
    "course_1"
   ]
  },
  {
   "cell_type": "code",
   "execution_count": 5,
   "id": "dfc54e97",
   "metadata": {},
   "outputs": [],
   "source": [
    "course=\"python for data science\""
   ]
  },
  {
   "cell_type": "code",
   "execution_count": 6,
   "id": "7e1d23a0",
   "metadata": {},
   "outputs": [
    {
     "data": {
      "text/plain": [
       "'python for data science,AI&Developement'"
      ]
     },
     "execution_count": 6,
     "metadata": {},
     "output_type": "execute_result"
    }
   ],
   "source": [
    "course_2=course+\",AI&Developement\"\n",
    "course_2"
   ]
  },
  {
   "cell_type": "code",
   "execution_count": 1,
   "id": "36c35a7c",
   "metadata": {},
   "outputs": [
    {
     "name": "stdout",
     "output_type": "stream",
     "text": [
      "python for data science,AI&Developement\n"
     ]
    }
   ],
   "source": [
    "print('python for data science,AI&Developement'\n",
    ",sep='_')\n"
   ]
  },
  {
   "cell_type": "code",
   "execution_count": 7,
   "id": "738e7820",
   "metadata": {},
   "outputs": [
    {
     "data": {
      "text/plain": [
       "'python_for_data_science,AI&Developement'"
      ]
     },
     "execution_count": 7,
     "metadata": {},
     "output_type": "execute_result"
    }
   ],
   "source": [
    "course_2.replace(\" \",\"_\")"
   ]
  },
  {
   "cell_type": "code",
   "execution_count": 8,
   "id": "27caf194",
   "metadata": {},
   "outputs": [
    {
     "data": {
      "text/plain": [
       "'PYTHON FOR DATA SCIENCE,AI&DEVELOPEMENT'"
      ]
     },
     "execution_count": 8,
     "metadata": {},
     "output_type": "execute_result"
    }
   ],
   "source": [
    "course_2.upper()"
   ]
  },
  {
   "cell_type": "code",
   "execution_count": null,
   "id": "7a4cec06",
   "metadata": {},
   "outputs": [],
   "source": []
  }
 ],
 "metadata": {
  "kernelspec": {
   "display_name": "Python 3 (ipykernel)",
   "language": "python",
   "name": "python3"
  },
  "language_info": {
   "codemirror_mode": {
    "name": "ipython",
    "version": 3
   },
   "file_extension": ".py",
   "mimetype": "text/x-python",
   "name": "python",
   "nbconvert_exporter": "python",
   "pygments_lexer": "ipython3",
   "version": "3.9.13"
  }
 },
 "nbformat": 4,
 "nbformat_minor": 5
}
